{
  "nbformat": 4,
  "nbformat_minor": 0,
  "metadata": {
    "colab": {
      "provenance": [],
      "include_colab_link": true
    },
    "kernelspec": {
      "name": "python3",
      "display_name": "Python 3"
    },
    "language_info": {
      "name": "python"
    }
  },
  "cells": [
    {
      "cell_type": "markdown",
      "metadata": {
        "id": "view-in-github",
        "colab_type": "text"
      },
      "source": [
        "<a href=\"https://colab.research.google.com/github/QoutiOussama13/GiksGarden/blob/main/giksGarden2.ipynb\" target=\"_parent\"><img src=\"https://colab.research.google.com/assets/colab-badge.svg\" alt=\"Open In Colab\"/></a>"
      ]
    },
    {
      "cell_type": "markdown",
      "source": [
        "# The vision+text models\n",
        "\n",
        "To-do\n",
        "*   Combine the vision and text model in the agent\n",
        "*   Make the vision as a tool in the agent extractor\n",
        "*   add this to the UI\n",
        "\n"
      ],
      "metadata": {
        "id": "hOlvRNPkenPt"
      }
    },
    {
      "cell_type": "code",
      "execution_count": null,
      "metadata": {
        "id": "3iJNyUiiNAHu"
      },
      "outputs": [],
      "source": [
        "!pip install -q langchain langchain-openai openai"
      ]
    },
    {
      "cell_type": "code",
      "source": [
        "!pip install --quiet chromadb"
      ],
      "metadata": {
        "id": "8sPxNfWpl2YS"
      },
      "execution_count": null,
      "outputs": []
    },
    {
      "cell_type": "code",
      "source": [
        "from langchain_openai import ChatOpenAI\n",
        "from langchain.prompts.chat import (\n",
        "    ChatPromptTemplate,\n",
        "    SystemMessagePromptTemplate,\n",
        "    HumanMessagePromptTemplate,\n",
        "    MessagesPlaceholder,\n",
        ")\n",
        "from langchain_community.vectorstores import Chroma\n",
        "from typing import Annotated, Sequence, TypedDict,Dict,Tuple\n",
        "from langchain.agents import initialize_agent, Tool,AgentExecutor\n",
        "from langchain_openai import ChatOpenAI, OpenAIEmbeddings\n",
        "from langchain.chains import RetrievalQA\n",
        "from langchain.memory import ConversationBufferMemory\n",
        "from langchain_community.tools.tavily_search import TavilySearchResults\n",
        "from langchain_community.document_loaders import TextLoader\n",
        "from langchain.text_splitter import RecursiveCharacterTextSplitter,CharacterTextSplitter\n",
        "import chromadb"
      ],
      "metadata": {
        "id": "xvHQKNrrOFTU"
      },
      "execution_count": 87,
      "outputs": []
    },
    {
      "cell_type": "code",
      "source": [
        "import os\n",
        "from google.colab import userdata\n",
        "\n",
        "os.environ['OPENAI_API_KEY'] = userdata.get('OPENAI_API_KEY')\n",
        "os.environ['TAVILY_API_KEY'] = userdata.get('TAVILY_API_KEY')"
      ],
      "metadata": {
        "id": "QPiV--k3gFeS"
      },
      "execution_count": null,
      "outputs": []
    },
    {
      "cell_type": "markdown",
      "source": [
        "## making the chain tool"
      ],
      "metadata": {
        "id": "44ZhWEzZqtCe"
      }
    },
    {
      "cell_type": "code",
      "source": [
        "class Config():\n",
        "    \"\"\"\n",
        "    Contains the configuration of the LLM.\n",
        "    \"\"\"\n",
        "    model = 'gpt-3.5-turbo'\n",
        "    llm = ChatOpenAI(temperature=0, model=model)"
      ],
      "metadata": {
        "id": "EpjWTI2dJDlg"
      },
      "execution_count": null,
      "outputs": []
    },
    {
      "cell_type": "markdown",
      "source": [
        "Test with random plant to se how the agent will behave"
      ],
      "metadata": {
        "id": "CiPk7CCpiIb5"
      }
    },
    {
      "cell_type": "code",
      "source": [
        "from google.colab import drive\n",
        "drive.mount('/content/drive')"
      ],
      "metadata": {
        "colab": {
          "base_uri": "https://localhost:8080/"
        },
        "id": "idR64fhMAiPS",
        "outputId": "db98e882-9d2a-4c8a-cfe4-203ef3f54668"
      },
      "execution_count": 72,
      "outputs": [
        {
          "output_type": "stream",
          "name": "stdout",
          "text": [
            "Mounted at /content/drive\n"
          ]
        }
      ]
    },
    {
      "cell_type": "code",
      "source": [
        "Delphinium = \"\"\"\n",
        "In the corner of the garden, nestled against the weathered wooden fence,\n",
        "stands a vibrant Blue Delphinium (Delphinium elatum).\n",
        "Planted on May 12th, 2023, this majestic perennial boasts spires of deep indigo blossoms,\n",
        " reaching towards the sky like miniature towers. Its lush green foliage provides a striking contrast to the azure petals,\n",
        "creating a captivating focal point in the garden. Preferring full sun and well-drained soil,\n",
        "this resilient plant attracts pollinators like bees and butterflies,\n",
        "adding both beauty and biodiversity to the outdoor space.  \"\"\""
      ],
      "metadata": {
        "id": "K9BFdhKYmKQZ"
      },
      "execution_count": null,
      "outputs": []
    },
    {
      "cell_type": "code",
      "source": [
        "chroma_client = chromadb.Client()"
      ],
      "metadata": {
        "id": "qq_TG1JulzL6"
      },
      "execution_count": 158,
      "outputs": []
    },
    {
      "cell_type": "code",
      "source": [
        "from langchain_community.document_loaders import TextLoader\n",
        "from langchain_community.embeddings.sentence_transformer import (\n",
        "    SentenceTransformerEmbeddings,\n",
        ")\n",
        "from langchain_community.vectorstores import Chroma\n",
        "from langchain_text_splitters import CharacterTextSplitter\n",
        "\n",
        "# load the document and split it into chunks\n",
        "loader = TextLoader(\"/content/drive/MyDrive/LEAP oasis hackathon/delphinium.txt\")\n",
        "documents = loader.load()\n",
        "\n",
        "# split it into chunks\n",
        "text_splitter = CharacterTextSplitter(chunk_size=3000, chunk_overlap=300)\n",
        "docs = text_splitter.split_documents(documents)\n",
        "\n",
        "\n",
        "# load it into Chroma\n",
        "db = Chroma.from_documents(docs, embeddings)"
      ],
      "metadata": {
        "id": "Ac6n1a3fBJ7N"
      },
      "execution_count": 159,
      "outputs": []
    },
    {
      "cell_type": "code",
      "source": [
        "cfg = Config()\n",
        "qa = RetrievalQA.from_chain_type(\n",
        "    llm=cfg.llm,\n",
        "    chain_type=\"stuff\",\n",
        "    retriever=db.as_retriever()\n",
        ")"
      ],
      "metadata": {
        "id": "ub1IHyAK4Os4"
      },
      "execution_count": 160,
      "outputs": []
    },
    {
      "cell_type": "markdown",
      "source": [
        "retrieval qa chain\n"
      ],
      "metadata": {
        "id": "aqmp5tT3q1sr"
      }
    },
    {
      "cell_type": "code",
      "source": [
        "qa.invoke('What are the characteristic of my plant?')"
      ],
      "metadata": {
        "colab": {
          "base_uri": "https://localhost:8080/"
        },
        "id": "d-PADEo2BdIa",
        "outputId": "0eecde28-d63e-4208-b354-f78d842a8032"
      },
      "execution_count": 161,
      "outputs": [
        {
          "output_type": "execute_result",
          "data": {
            "text/plain": [
              "{'query': 'What are the characteristic of my plant?',\n",
              " 'result': 'Your plant, the Blue Delphinium (Delphinium elatum), is a stunning perennial known for its towering spires of deep indigo blossoms. It belongs to the buttercup family (Ranunculaceae) and is native to the Northern Hemisphere. The plant typically grows quite tall, reaching heights of up to 6 feet or more, making it an excellent choice for adding vertical interest to garden landscapes. The flowers bloom in early to midsummer, densely packed along elongated stalks, creating a striking display of color and texture. Blue Delphiniums prefer full sun and well-drained soil, attracting pollinators like bees and butterflies. They are favored for their vibrant hues, elegant appearance, and cultural symbolism associated with qualities like dignity and grace. Additionally, they have been historically used for medicinal purposes, but caution is advised due to the presence of toxic alkaloids in some species.'}"
            ]
          },
          "metadata": {},
          "execution_count": 161
        }
      ]
    },
    {
      "cell_type": "markdown",
      "source": [
        "Setting up the memroy for the agent"
      ],
      "metadata": {
        "id": "gJPkRzg8q65q"
      }
    },
    {
      "cell_type": "code",
      "source": [
        "def setup_memory() -> Tuple[Dict, ConversationBufferMemory]:\n",
        "    \"\"\"\n",
        "    Sets up memory for the  agent.\n",
        "    :return a tuple with the agent keyword pairs and the conversation memory.\n",
        "    \"\"\"\n",
        "    agent_kwargs = {\n",
        "        \"extra_prompt_messages\": [MessagesPlaceholder(variable_name=\"memory\")],\n",
        "    }\n",
        "    memory = ConversationBufferMemory(memory_key=\"memory\", return_messages=True)\n",
        "    return agent_kwargs, memory"
      ],
      "metadata": {
        "id": "TOKYUmuqIusU"
      },
      "execution_count": 162,
      "outputs": []
    },
    {
      "cell_type": "code",
      "source": [
        "def setup_agent() -> AgentExecutor:\n",
        "    \"\"\"\n",
        "    Sets up the tools for a function based chain.\n",
        "    We have here the following tools:\n",
        "\n",
        "    \"\"\"\n",
        "    cfg = Config()\n",
        "    tools = [\n",
        "        Tool(\n",
        "            name=\"knowledge base\",\n",
        "            func=qa.run,\n",
        "            description=\"Used when you need information or have questions about the plant.\"\n",
        "        ),\n",
        "        Tool(\n",
        "        name='web search',\n",
        "        func=TavilySearchResults().run,\n",
        "        description='''use this tool when you can't find the content in the knowledge base and you need more advenced search functionalities that are related to the user query '''\n",
        "        ),\n",
        "    ]\n",
        "    agent_kwargs, memory = setup_memory()\n",
        "\n",
        "    return initialize_agent(\n",
        "        tools,\n",
        "        cfg.llm,\n",
        "        verbose=False,\n",
        "        agent_kwargs=agent_kwargs,\n",
        "        memory=memory\n",
        "    )"
      ],
      "metadata": {
        "id": "m84B4a71I4XC"
      },
      "execution_count": 169,
      "outputs": []
    },
    {
      "cell_type": "code",
      "source": [
        "agent = setup_agent()"
      ],
      "metadata": {
        "id": "jUQ1Q4YaBeGI"
      },
      "execution_count": 170,
      "outputs": []
    },
    {
      "cell_type": "code",
      "source": [
        "import base64\n",
        "import requests\n",
        "\n",
        "def generate_caption(api_key, image_path):\n",
        "    # Function to encode the image\n",
        "    def encode_image(image_path):\n",
        "        with open(image_path, \"rb\") as image_file:\n",
        "            return base64.b64encode(image_file.read()).decode('utf-8')\n",
        "\n",
        "    # Getting the base64 string\n",
        "    base64_image = encode_image(image_path)\n",
        "\n",
        "    headers = {\n",
        "        \"Content-Type\": \"application/json\",\n",
        "        \"Authorization\": f\"Bearer {api_key}\"\n",
        "    }\n",
        "\n",
        "    payload = {\n",
        "        \"model\": \"gpt-4-vision-preview\",\n",
        "        \"messages\": [\n",
        "            {\n",
        "                \"role\": \"user\",\n",
        "                \"content\": [\n",
        "                    {\n",
        "                        \"type\": \"text\",\n",
        "                        \"text\": \"Please provide a detailed description of the image, including the possible organisms it may feature, the time of day, and any relevant details. Remember, if the user provides information unrelated to agriculture, plants, gardens, etc., simply respond with 'nothing'.\"\n",
        "                    },\n",
        "                    {\n",
        "                        \"type\": \"image_url\",\n",
        "                        \"image_url\": {\n",
        "                            \"url\": f\"data:image/jpeg;base64,{base64_image}\"\n",
        "                        }\n",
        "                    }\n",
        "                ]\n",
        "            }\n",
        "        ],\n",
        "        \"max_tokens\": 300\n",
        "    }\n",
        "\n",
        "    response = requests.post(\"https://api.openai.com/v1/chat/completions\", headers=headers, json=payload)\n",
        "\n",
        "    return response.json()['choices'][0]['message']['content']"
      ],
      "metadata": {
        "id": "HGJrQdSHGqe6"
      },
      "execution_count": 91,
      "outputs": []
    },
    {
      "cell_type": "code",
      "source": [
        "api_key = os.environ['OPENAI_API_KEY']\n",
        "image_path = \"/content/delphinium_insect.png\"\n",
        "caption = generate_caption(api_key, image_path)\n",
        "caption"
      ],
      "metadata": {
        "colab": {
          "base_uri": "https://localhost:8080/",
          "height": 192
        },
        "id": "Z3VeznZpG3BT",
        "outputId": "8c45f4ef-0257-490f-c2e0-fba5b7a74fab"
      },
      "execution_count": 92,
      "outputs": [
        {
          "output_type": "execute_result",
          "data": {
            "text/plain": [
              "\"The image depicts a close-up view of a green leaf with numerous holes and some apparent pest damage. There's a visible cluster of small, spherical, pale eggs, possibly insect eggs, adhered to the surface of the leaf on the right side. The holes across the leaf suggest it has been fed on by an insect or a group of insects, such as caterpillars or beetles. The presence of eggs implies that an insect has chosen this plant to lay its eggs, which will likely lead to further infestation once they hatch.\\n\\nThe leaf itself looks to be from a herbaceous plant, with prominent veins and serrated edges. Additionally, there are tiny, hair-like structures along the leaf edges and its surface, which are characteristic of certain plant species. The fine webbing around the eggs and holes may indicate the presence of spider mites or other pests that produce webbing. The time of day or the specific type of plant can't be determined from this image, as there is no contextual environment depicted that would provide that information.\""
            ],
            "application/vnd.google.colaboratory.intrinsic+json": {
              "type": "string"
            }
          },
          "metadata": {},
          "execution_count": 92
        }
      ]
    },
    {
      "cell_type": "code",
      "source": [
        "api_key = os.environ['OPENAI_API_KEY']\n",
        "image_path = \"/content/image_2024-03-05_163437730.png\"\n",
        "caption2 = generate_caption(api_key, image_path)\n",
        "caption2"
      ],
      "metadata": {
        "colab": {
          "base_uri": "https://localhost:8080/",
          "height": 36
        },
        "id": "HLqspyokQCWt",
        "outputId": "4384d7ab-9528-422f-a3da-6e0873fd592d"
      },
      "execution_count": 93,
      "outputs": [
        {
          "output_type": "execute_result",
          "data": {
            "text/plain": [
              "'nothing'"
            ],
            "application/vnd.google.colaboratory.intrinsic+json": {
              "type": "string"
            }
          },
          "metadata": {},
          "execution_count": 93
        }
      ]
    },
    {
      "cell_type": "code",
      "source": [
        "'I started noticing these insects on my plant what should I do?'+ caption"
      ],
      "metadata": {
        "colab": {
          "base_uri": "https://localhost:8080/",
          "height": 192
        },
        "id": "57KoW1j-dgyT",
        "outputId": "fa71b415-e5cd-4490-928e-7de19311c760"
      },
      "execution_count": 171,
      "outputs": [
        {
          "output_type": "execute_result",
          "data": {
            "text/plain": [
              "\"I started noticing these insects on my plant what should I do?The image depicts a close-up view of a green leaf with numerous holes and some apparent pest damage. There's a visible cluster of small, spherical, pale eggs, possibly insect eggs, adhered to the surface of the leaf on the right side. The holes across the leaf suggest it has been fed on by an insect or a group of insects, such as caterpillars or beetles. The presence of eggs implies that an insect has chosen this plant to lay its eggs, which will likely lead to further infestation once they hatch.\\n\\nThe leaf itself looks to be from a herbaceous plant, with prominent veins and serrated edges. Additionally, there are tiny, hair-like structures along the leaf edges and its surface, which are characteristic of certain plant species. The fine webbing around the eggs and holes may indicate the presence of spider mites or other pests that produce webbing. The time of day or the specific type of plant can't be determined from this image, as there is no contextual environment depicted that would provide that information.\""
            ],
            "application/vnd.google.colaboratory.intrinsic+json": {
              "type": "string"
            }
          },
          "metadata": {},
          "execution_count": 171
        }
      ]
    },
    {
      "cell_type": "code",
      "source": [
        "#I used the content of delphinium.txt and enbaled the web search to perform this + the image caption\n",
        "result = agent.invoke('I started noticing some insects on my plant what should I do?'+caption)"
      ],
      "metadata": {
        "id": "7Ar4sebrGhoc"
      },
      "execution_count": 184,
      "outputs": []
    },
    {
      "cell_type": "code",
      "source": [
        "#will get better when the the prompt imporve\n",
        "result['output']"
      ],
      "metadata": {
        "colab": {
          "base_uri": "https://localhost:8080/",
          "height": 70
        },
        "id": "xmsxbrVkgT6s",
        "outputId": "f300f50c-fd44-49e6-849b-db4d09d8878c"
      },
      "execution_count": 185,
      "outputs": [
        {
          "output_type": "execute_result",
          "data": {
            "text/plain": [
              "'To control insect pests on plants naturally, I can use methods such as maintaining healthy soil, using insect traps, adding beneficial insects, making homemade plant insecticide sprays, using vinegar solutions, and neem oil.'"
            ],
            "application/vnd.google.colaboratory.intrinsic+json": {
              "type": "string"
            }
          },
          "metadata": {},
          "execution_count": 185
        }
      ]
    },
    {
      "cell_type": "markdown",
      "source": [
        "This code still needs some more work\n",
        "----------------------------------"
      ],
      "metadata": {
        "id": "ZJEzMWxocqdy"
      }
    },
    {
      "cell_type": "code",
      "source": [],
      "metadata": {
        "id": "9jEZhWXYeDDA"
      },
      "execution_count": null,
      "outputs": []
    },
    {
      "cell_type": "code",
      "source": [
        "import base64\n",
        "import requests\n",
        "from langchain.tools import BaseTool\n",
        "\n",
        "class ImageCaptioner(BaseTool):\n",
        "    name = \"Image captioner\"\n",
        "    description = \"Use this tool when given the path to an image that you would like to be described. \"\\\n",
        "                  \"This tool uses the GPT-4-vision-preview model of OpenAI's API and requires a valid API key\"\n",
        "\n",
        "    def __init__(self, api_key):\n",
        "        self.api_key = api_key\n",
        "\n",
        "    @staticmethod\n",
        "    def _encode_image(image_path):\n",
        "        with open(image_path, \"rb\") as image_file:\n",
        "            return base64.b64encode(image_file.read()).decode('utf-8')\n",
        "\n",
        "    def _run(self, image_path):\n",
        "        # Getting the base64 string\n",
        "        base64_image = self._encode_image(image_path)\n",
        "\n",
        "        headers = {\n",
        "            \"Content-Type\": \"application/json\",\n",
        "            \"Authorization\": f\"Bearer {self.api_key}\"\n",
        "        }\n",
        "\n",
        "        payload = {\n",
        "            \"model\": \"gpt-4-vision-preview\",\n",
        "            \"messages\": [\n",
        "                {\n",
        "                    \"role\": \"user\",\n",
        "                    \"content\": [\n",
        "                        {\n",
        "                            \"type\": \"text\",\n",
        "                            \"text\": \"Please provide a detailed description of the image, including the possible organisms it may feature, the time of day, and any relevant details. Remember, if the user provides information unrelated to agriculture, plants, gardens, etc., simply respond with 'nothing'.\"\n",
        "                        },\n",
        "                        {\n",
        "                            \"type\": \"image_url\",\n",
        "                            \"image_url\": {\n",
        "                                \"url\": f\"data:image/jpeg;base64,{base64_image}\"\n",
        "                            }\n",
        "                        }\n",
        "                    ]\n",
        "                }\n",
        "            ],\n",
        "            \"max_tokens\": 300\n",
        "        }\n",
        "\n",
        "        response = requests.post(\"https://api.openai.com/v1/chat/completions\", headers=headers, json=payload)\n",
        "\n",
        "        return response.json()['choices'][0]['message']['content']\n",
        "\n",
        "    def _arun(self, query: str):\n",
        "        raise NotImplementedError(\"This tool does not support async\")"
      ],
      "metadata": {
        "id": "5M1z8EjSY8We"
      },
      "execution_count": 110,
      "outputs": []
    }
  ]
}