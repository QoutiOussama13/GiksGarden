{
  "cells": [
    {
      "cell_type": "markdown",
      "metadata": {
        "colab_type": "text",
        "id": "view-in-github"
      },
      "source": [
        "<a href=\"https://colab.research.google.com/github/QoutiOussama13/GiksGarden/blob/main/giksGarden2.ipynb\" target=\"_parent\"><img src=\"https://colab.research.google.com/assets/colab-badge.svg\" alt=\"Open In Colab\"/></a>"
      ]
    },
    {
      "cell_type": "markdown",
      "metadata": {
        "id": "hOlvRNPkenPt"
      },
      "source": [
        "# The vision+text models\n",
        "\n",
        "To-do\n",
        "*   Combine the vision and text model in the agent\n",
        "*   Make the vision as a tool in the agent extractor\n",
        "*   add this to the UI\n",
        "\n"
      ]
    },
    {
      "cell_type": "code",
      "execution_count": null,
      "metadata": {
        "id": "3iJNyUiiNAHu"
      },
      "outputs": [],
      "source": [
        "!pip install -q langchain langchain-openai openai"
      ]
    },
    {
      "cell_type": "code",
      "execution_count": null,
      "metadata": {
        "id": "8sPxNfWpl2YS"
      },
      "outputs": [],
      "source": [
        "!pip install --quiet chromadb"
      ]
    },
    {
      "cell_type": "code",
      "execution_count": 87,
      "metadata": {
        "id": "xvHQKNrrOFTU"
      },
      "outputs": [],
      "source": [
        "from langchain_openai import ChatOpenAI\n",
        "from langchain.prompts.chat import (\n",
        "    ChatPromptTemplate,\n",
        "    SystemMessagePromptTemplate,\n",
        "    HumanMessagePromptTemplate,\n",
        "    MessagesPlaceholder,\n",
        ")\n",
        "from langchain_community.vectorstores import Chroma\n",
        "from typing import Annotated, Sequence, TypedDict,Dict,Tuple\n",
        "from langchain.agents import initialize_agent, Tool,AgentExecutor\n",
        "from langchain_openai import ChatOpenAI, OpenAIEmbeddings\n",
        "from langchain.chains import RetrievalQA\n",
        "from langchain.memory import ConversationBufferMemory\n",
        "from langchain_community.tools.tavily_search import TavilySearchResults\n",
        "from langchain_community.document_loaders import TextLoader\n",
        "from langchain.text_splitter import RecursiveCharacterTextSplitter,CharacterTextSplitter\n",
        "import chromadb"
      ]
    },
    {
      "cell_type": "code",
      "execution_count": null,
      "metadata": {
        "id": "QPiV--k3gFeS"
      },
      "outputs": [],
      "source": [
        "import os\n",
        "from google.colab import userdata\n",
        "\n",
        "os.environ['OPENAI_API_KEY'] = userdata.get('OPENAI_API_KEY')\n",
        "os.environ['TAVILY_API_KEY'] = userdata.get('TAVILY_API_KEY')"
      ]
    },
    {
      "cell_type": "markdown",
      "metadata": {
        "id": "44ZhWEzZqtCe"
      },
      "source": [
        "## making the chain tool"
      ]
    },
    {
      "cell_type": "code",
      "execution_count": null,
      "metadata": {
        "id": "EpjWTI2dJDlg"
      },
      "outputs": [],
      "source": [
        "class Config():\n",
        "    \"\"\"\n",
        "    Contains the configuration of the LLM.\n",
        "    \"\"\"\n",
        "    model = 'gpt-3.5-turbo'\n",
        "    llm = ChatOpenAI(temperature=0, model=model)"
      ]
    },
    {
      "cell_type": "markdown",
      "metadata": {
        "id": "CiPk7CCpiIb5"
      },
      "source": [
        "Test with random plant to se how the agent will behave"
      ]
    },
    {
      "cell_type": "code",
      "execution_count": 72,
      "metadata": {
        "colab": {
          "base_uri": "https://localhost:8080/"
        },
        "id": "idR64fhMAiPS",
        "outputId": "db98e882-9d2a-4c8a-cfe4-203ef3f54668"
      },
      "outputs": [
        {
          "name": "stdout",
          "output_type": "stream",
          "text": [
            "Mounted at /content/drive\n"
          ]
        }
      ],
      "source": [
        "from google.colab import drive\n",
        "drive.mount('/content/drive')"
      ]
    },
    {
      "cell_type": "code",
      "execution_count": null,
      "metadata": {
        "id": "K9BFdhKYmKQZ"
      },
      "outputs": [],
      "source": [
        "Delphinium = \"\"\"\n",
        "In the corner of the garden, nestled against the weathered wooden fence,\n",
        "stands a vibrant Blue Delphinium (Delphinium elatum).\n",
        "Planted on May 12th, 2023, this majestic perennial boasts spires of deep indigo blossoms,\n",
        " reaching towards the sky like miniature towers. Its lush green foliage provides a striking contrast to the azure petals,\n",
        "creating a captivating focal point in the garden. Preferring full sun and well-drained soil,\n",
        "this resilient plant attracts pollinators like bees and butterflies,\n",
        "adding both beauty and biodiversity to the outdoor space.  \"\"\""
      ]
    },
    {
      "cell_type": "code",
      "execution_count": 158,
      "metadata": {
        "id": "qq_TG1JulzL6"
      },
      "outputs": [],
      "source": [
        "chroma_client = chromadb.Client()"
      ]
    },
    {
      "cell_type": "code",
      "execution_count": 159,
      "metadata": {
        "id": "Ac6n1a3fBJ7N"
      },
      "outputs": [],
      "source": [
        "from langchain_community.document_loaders import TextLoader\n",
        "from langchain_community.embeddings.sentence_transformer import (\n",
        "    SentenceTransformerEmbeddings,\n",
        ")\n",
        "from langchain_community.vectorstores import Chroma\n",
        "from langchain_text_splitters import CharacterTextSplitter\n",
        "\n",
        "# load the document and split it into chunks\n",
        "loader = TextLoader(\"/content/drive/MyDrive/LEAP oasis hackathon/delphinium.txt\")\n",
        "documents = loader.load()\n",
        "\n",
        "# split it into chunks\n",
        "text_splitter = CharacterTextSplitter(chunk_size=3000, chunk_overlap=300)\n",
        "docs = text_splitter.split_documents(documents)\n",
        "\n",
        "\n",
        "# load it into Chroma\n",
        "db = Chroma.from_documents(docs, embeddings)"
      ]
    },
    {
      "cell_type": "code",
      "execution_count": 160,
      "metadata": {
        "id": "ub1IHyAK4Os4"
      },
      "outputs": [],
      "source": [
        "cfg = Config()\n",
        "qa = RetrievalQA.from_chain_type(\n",
        "    llm=cfg.llm,\n",
        "    chain_type=\"stuff\",\n",
        "    retriever=db.as_retriever()\n",
        ")"
      ]
    },
    {
      "cell_type": "markdown",
      "metadata": {
        "id": "aqmp5tT3q1sr"
      },
      "source": [
        "retrieval qa chain\n"
      ]
    },
    {
      "cell_type": "code",
      "execution_count": 161,
      "metadata": {
        "colab": {
          "base_uri": "https://localhost:8080/"
        },
        "id": "d-PADEo2BdIa",
        "outputId": "0eecde28-d63e-4208-b354-f78d842a8032"
      },
      "outputs": [
        {
          "data": {
            "text/plain": [
              "{'query': 'What are the characteristic of my plant?',\n",
              " 'result': 'Your plant, the Blue Delphinium (Delphinium elatum), is a stunning perennial known for its towering spires of deep indigo blossoms. It belongs to the buttercup family (Ranunculaceae) and is native to the Northern Hemisphere. The plant typically grows quite tall, reaching heights of up to 6 feet or more, making it an excellent choice for adding vertical interest to garden landscapes. The flowers bloom in early to midsummer, densely packed along elongated stalks, creating a striking display of color and texture. Blue Delphiniums prefer full sun and well-drained soil, attracting pollinators like bees and butterflies. They are favored for their vibrant hues, elegant appearance, and cultural symbolism associated with qualities like dignity and grace. Additionally, they have been historically used for medicinal purposes, but caution is advised due to the presence of toxic alkaloids in some species.'}"
            ]
          },
          "execution_count": 161,
          "metadata": {},
          "output_type": "execute_result"
        }
      ],
      "source": [
        "qa.invoke('What are the characteristic of my plant?')"
      ]
    },
    {
      "cell_type": "markdown",
      "metadata": {
        "id": "gJPkRzg8q65q"
      },
      "source": [
        "Setting up the memroy for the agent"
      ]
    },
    {
      "cell_type": "code",
      "execution_count": 162,
      "metadata": {
        "id": "TOKYUmuqIusU"
      },
      "outputs": [],
      "source": [
        "def setup_memory() -> Tuple[Dict, ConversationBufferMemory]:\n",
        "    \"\"\"\n",
        "    Sets up memory for the  agent.\n",
        "    :return a tuple with the agent keyword pairs and the conversation memory.\n",
        "    \"\"\"\n",
        "    agent_kwargs = {\n",
        "        \"extra_prompt_messages\": [MessagesPlaceholder(variable_name=\"memory\")],\n",
        "    }\n",
        "    memory = ConversationBufferMemory(memory_key=\"memory\", return_messages=True)\n",
        "    return agent_kwargs, memory"
      ]
    },
    {
      "cell_type": "code",
      "execution_count": 169,
      "metadata": {
        "id": "m84B4a71I4XC"
      },
      "outputs": [],
      "source": [
        "def setup_agent() -> AgentExecutor:\n",
        "    \"\"\"\n",
        "    Sets up the tools for a function based chain.\n",
        "    We have here the following tools:\n",
        "\n",
        "    \"\"\"\n",
        "    cfg = Config()\n",
        "    tools = [\n",
        "        Tool(\n",
        "            name=\"knowledge base\",\n",
        "            func=qa.run,\n",
        "            description=\"Used when you need information or have questions about the plant.\"\n",
        "        ),\n",
        "        Tool(\n",
        "        name='web search',\n",
        "        func=TavilySearchResults().run,\n",
        "        description='''use this tool when you can't find the content in the knowledge base and you need more advenced search functionalities that are related to the user query '''\n",
        "        ),\n",
        "    ]\n",
        "    agent_kwargs, memory = setup_memory()\n",
        "\n",
        "    return initialize_agent(\n",
        "        tools,\n",
        "        cfg.llm,\n",
        "        verbose=False,\n",
        "        agent_kwargs=agent_kwargs,\n",
        "        memory=memory\n",
        "    )"
      ]
    },
    {
      "cell_type": "code",
      "execution_count": 170,
      "metadata": {
        "id": "jUQ1Q4YaBeGI"
      },
      "outputs": [],
      "source": [
        "agent = setup_agent()"
      ]
    },
    {
      "cell_type": "code",
      "execution_count": 91,
      "metadata": {
        "id": "HGJrQdSHGqe6"
      },
      "outputs": [],
      "source": [
        "import base64\n",
        "import requests\n",
        "\n",
        "def generate_caption(api_key, image_path):\n",
        "    # Function to encode the image\n",
        "    def encode_image(image_path):\n",
        "        with open(image_path, \"rb\") as image_file:\n",
        "            return base64.b64encode(image_file.read()).decode('utf-8')\n",
        "\n",
        "    # Getting the base64 string\n",
        "    base64_image = encode_image(image_path)\n",
        "\n",
        "    headers = {\n",
        "        \"Content-Type\": \"application/json\",\n",
        "        \"Authorization\": f\"Bearer {api_key}\"\n",
        "    }\n",
        "\n",
        "    payload = {\n",
        "        \"model\": \"gpt-4-vision-preview\",\n",
        "        \"messages\": [\n",
        "            {\n",
        "                \"role\": \"user\",\n",
        "                \"content\": [\n",
        "                    {\n",
        "                        \"type\": \"text\",\n",
        "                        \"text\": \"Please provide a detailed description of the image, including the possible organisms it may feature, the time of day, and any relevant details. Remember, if the user provides information unrelated to agriculture, plants, gardens, etc., simply respond with 'nothing'.\"\n",
        "                    },\n",
        "                    {\n",
        "                        \"type\": \"image_url\",\n",
        "                        \"image_url\": {\n",
        "                            \"url\": f\"data:image/jpeg;base64,{base64_image}\"\n",
        "                        }\n",
        "                    }\n",
        "                ]\n",
        "            }\n",
        "        ],\n",
        "        \"max_tokens\": 300\n",
        "    }\n",
        "\n",
        "    response = requests.post(\"https://api.openai.com/v1/chat/completions\", headers=headers, json=payload)\n",
        "\n",
        "    return response.json()['choices'][0]['message']['content']"
      ]
    },
    {
      "cell_type": "code",
      "execution_count": 92,
      "metadata": {
        "colab": {
          "base_uri": "https://localhost:8080/",
          "height": 192
        },
        "id": "Z3VeznZpG3BT",
        "outputId": "8c45f4ef-0257-490f-c2e0-fba5b7a74fab"
      },
      "outputs": [
        {
          "data": {
            "application/vnd.google.colaboratory.intrinsic+json": {
              "type": "string"
            },
            "text/plain": [
              "\"The image depicts a close-up view of a green leaf with numerous holes and some apparent pest damage. There's a visible cluster of small, spherical, pale eggs, possibly insect eggs, adhered to the surface of the leaf on the right side. The holes across the leaf suggest it has been fed on by an insect or a group of insects, such as caterpillars or beetles. The presence of eggs implies that an insect has chosen this plant to lay its eggs, which will likely lead to further infestation once they hatch.\\n\\nThe leaf itself looks to be from a herbaceous plant, with prominent veins and serrated edges. Additionally, there are tiny, hair-like structures along the leaf edges and its surface, which are characteristic of certain plant species. The fine webbing around the eggs and holes may indicate the presence of spider mites or other pests that produce webbing. The time of day or the specific type of plant can't be determined from this image, as there is no contextual environment depicted that would provide that information.\""
            ]
          },
          "execution_count": 92,
          "metadata": {},
          "output_type": "execute_result"
        }
      ],
      "source": [
        "api_key = os.environ['OPENAI_API_KEY']\n",
        "image_path = \"/content/delphinium_insect.png\"\n",
        "caption = generate_caption(api_key, image_path)\n",
        "caption"
      ]
    },
    {
      "cell_type": "code",
      "execution_count": 93,
      "metadata": {
        "colab": {
          "base_uri": "https://localhost:8080/",
          "height": 36
        },
        "id": "HLqspyokQCWt",
        "outputId": "4384d7ab-9528-422f-a3da-6e0873fd592d"
      },
      "outputs": [
        {
          "data": {
            "application/vnd.google.colaboratory.intrinsic+json": {
              "type": "string"
            },
            "text/plain": [
              "'nothing'"
            ]
          },
          "execution_count": 93,
          "metadata": {},
          "output_type": "execute_result"
        }
      ],
      "source": [
        "api_key = os.environ['OPENAI_API_KEY']\n",
        "image_path = \"/content/image_2024-03-05_163437730.png\"\n",
        "caption2 = generate_caption(api_key, image_path)\n",
        "caption2"
      ]
    },
    {
      "cell_type": "code",
      "execution_count": 171,
      "metadata": {
        "colab": {
          "base_uri": "https://localhost:8080/",
          "height": 192
        },
        "id": "57KoW1j-dgyT",
        "outputId": "fa71b415-e5cd-4490-928e-7de19311c760"
      },
      "outputs": [
        {
          "data": {
            "application/vnd.google.colaboratory.intrinsic+json": {
              "type": "string"
            },
            "text/plain": [
              "\"I started noticing these insects on my plant what should I do?The image depicts a close-up view of a green leaf with numerous holes and some apparent pest damage. There's a visible cluster of small, spherical, pale eggs, possibly insect eggs, adhered to the surface of the leaf on the right side. The holes across the leaf suggest it has been fed on by an insect or a group of insects, such as caterpillars or beetles. The presence of eggs implies that an insect has chosen this plant to lay its eggs, which will likely lead to further infestation once they hatch.\\n\\nThe leaf itself looks to be from a herbaceous plant, with prominent veins and serrated edges. Additionally, there are tiny, hair-like structures along the leaf edges and its surface, which are characteristic of certain plant species. The fine webbing around the eggs and holes may indicate the presence of spider mites or other pests that produce webbing. The time of day or the specific type of plant can't be determined from this image, as there is no contextual environment depicted that would provide that information.\""
            ]
          },
          "execution_count": 171,
          "metadata": {},
          "output_type": "execute_result"
        }
      ],
      "source": [
        "'I started noticing these insects on my plant what should I do?'+ caption"
      ]
    },
    {
      "cell_type": "code",
      "execution_count": 184,
      "metadata": {
        "id": "7Ar4sebrGhoc"
      },
      "outputs": [],
      "source": [
        "#I used the content of delphinium.txt and enbaled the web search to perform this + the image caption\n",
        "result = agent.invoke('I started noticing some insects on my plant what should I do?'+caption)"
      ]
    },
    {
      "cell_type": "code",
      "execution_count": 185,
      "metadata": {
        "colab": {
          "base_uri": "https://localhost:8080/",
          "height": 70
        },
        "id": "xmsxbrVkgT6s",
        "outputId": "f300f50c-fd44-49e6-849b-db4d09d8878c"
      },
      "outputs": [
        {
          "data": {
            "application/vnd.google.colaboratory.intrinsic+json": {
              "type": "string"
            },
            "text/plain": [
              "'To control insect pests on plants naturally, I can use methods such as maintaining healthy soil, using insect traps, adding beneficial insects, making homemade plant insecticide sprays, using vinegar solutions, and neem oil.'"
            ]
          },
          "execution_count": 185,
          "metadata": {},
          "output_type": "execute_result"
        }
      ],
      "source": [
        "#will get better when the the prompt imporve\n",
        "result['output']"
      ]
    },
    {
      "cell_type": "markdown",
      "metadata": {
        "id": "ZJEzMWxocqdy"
      },
      "source": [
        "This code still needs some more work\n",
        "----------------------------------"
      ]
    },
    {
      "cell_type": "code",
      "execution_count": null,
      "metadata": {
        "id": "9jEZhWXYeDDA"
      },
      "outputs": [],
      "source": []
    },
    {
      "cell_type": "code",
      "execution_count": 110,
      "metadata": {
        "id": "5M1z8EjSY8We"
      },
      "outputs": [],
      "source": [
        "import base64\n",
        "import requests\n",
        "from langchain.tools import BaseTool\n",
        "\n",
        "class ImageCaptioner(BaseTool):\n",
        "    name = \"Image captioner\"\n",
        "    description = \"Use this tool when given the path to an image that you would like to be described. \"\\\n",
        "                  \"This tool uses the GPT-4-vision-preview model of OpenAI's API and requires a valid API key\"\n",
        "\n",
        "    def __init__(self, api_key):\n",
        "        self.api_key = api_key\n",
        "\n",
        "    @staticmethod\n",
        "    def _encode_image(image_path):\n",
        "        with open(image_path, \"rb\") as image_file:\n",
        "            return base64.b64encode(image_file.read()).decode('utf-8')\n",
        "\n",
        "    def _run(self, image_path):\n",
        "        # Getting the base64 string\n",
        "        base64_image = self._encode_image(image_path)\n",
        "\n",
        "        headers = {\n",
        "            \"Content-Type\": \"application/json\",\n",
        "            \"Authorization\": f\"Bearer {self.api_key}\"\n",
        "        }\n",
        "\n",
        "        payload = {\n",
        "            \"model\": \"gpt-4-vision-preview\",\n",
        "            \"messages\": [\n",
        "                {\n",
        "                    \"role\": \"user\",\n",
        "                    \"content\": [\n",
        "                        {\n",
        "                            \"type\": \"text\",\n",
        "                            \"text\": \"Please provide a detailed description of the image, including the possible organisms it may feature, the time of day, and any relevant details. Remember, if the user provides information unrelated to agriculture, plants, gardens, etc., simply respond with 'nothing'.\"\n",
        "                        },\n",
        "                        {\n",
        "                            \"type\": \"image_url\",\n",
        "                            \"image_url\": {\n",
        "                                \"url\": f\"data:image/jpeg;base64,{base64_image}\"\n",
        "                            }\n",
        "                        }\n",
        "                    ]\n",
        "                }\n",
        "            ],\n",
        "            \"max_tokens\": 300\n",
        "        }\n",
        "\n",
        "        response = requests.post(\"https://api.openai.com/v1/chat/completions\", headers=headers, json=payload)\n",
        "\n",
        "        return response.json()['choices'][0]['message']['content']\n",
        "\n",
        "    def _arun(self, query: str):\n",
        "        raise NotImplementedError(\"This tool does not support async\")"
      ]
    }
  ],
  "metadata": {
    "colab": {
      "include_colab_link": true,
      "provenance": []
    },
    "kernelspec": {
      "display_name": "Python 3",
      "name": "python3"
    },
    "language_info": {
      "name": "python"
    }
  },
  "nbformat": 4,
  "nbformat_minor": 0
}
