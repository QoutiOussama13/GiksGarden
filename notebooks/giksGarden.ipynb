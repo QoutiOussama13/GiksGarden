{
  "nbformat": 4,
  "nbformat_minor": 0,
  "metadata": {
    "colab": {
      "provenance": []
    },
    "kernelspec": {
      "name": "python3",
      "display_name": "Python 3"
    },
    "language_info": {
      "name": "python"
    }
  },
  "cells": [
    {
      "cell_type": "code",
      "execution_count": 1,
      "metadata": {
        "colab": {
          "base_uri": "https://localhost:8080/"
        },
        "id": "3iJNyUiiNAHu",
        "outputId": "92aebeb8-e045-433e-c546-5fd2f5b07581"
      },
      "outputs": [
        {
          "output_type": "stream",
          "name": "stdout",
          "text": [
            "\u001b[2K     \u001b[90m━━━━━━━━━━━━━━━━━━━━━━━━━━━━━━━━━━━━━━━━\u001b[0m \u001b[32m807.5/807.5 kB\u001b[0m \u001b[31m7.6 MB/s\u001b[0m eta \u001b[36m0:00:00\u001b[0m\n",
            "\u001b[2K     \u001b[90m━━━━━━━━━━━━━━━━━━━━━━━━━━━━━━━━━━━━━━━━\u001b[0m \u001b[32m1.8/1.8 MB\u001b[0m \u001b[31m13.0 MB/s\u001b[0m eta \u001b[36m0:00:00\u001b[0m\n",
            "\u001b[2K     \u001b[90m━━━━━━━━━━━━━━━━━━━━━━━━━━━━━━━━━━━━━━━━\u001b[0m \u001b[32m252.6/252.6 kB\u001b[0m \u001b[31m11.8 MB/s\u001b[0m eta \u001b[36m0:00:00\u001b[0m\n",
            "\u001b[2K     \u001b[90m━━━━━━━━━━━━━━━━━━━━━━━━━━━━━━━━━━━━━━━━\u001b[0m \u001b[32m65.7/65.7 kB\u001b[0m \u001b[31m4.6 MB/s\u001b[0m eta \u001b[36m0:00:00\u001b[0m\n",
            "\u001b[2K     \u001b[90m━━━━━━━━━━━━━━━━━━━━━━━━━━━━━━━━━━━━━━━━\u001b[0m \u001b[32m49.4/49.4 kB\u001b[0m \u001b[31m4.4 MB/s\u001b[0m eta \u001b[36m0:00:00\u001b[0m\n",
            "\u001b[2K     \u001b[90m━━━━━━━━━━━━━━━━━━━━━━━━━━━━━━━━━━━━━━━━\u001b[0m \u001b[32m138.5/138.5 kB\u001b[0m \u001b[31m11.5 MB/s\u001b[0m eta \u001b[36m0:00:00\u001b[0m\n",
            "\u001b[?25h"
          ]
        }
      ],
      "source": [
        "!pip install -q langchain"
      ]
    },
    {
      "cell_type": "code",
      "source": [
        "!pip install -q langchain-openai"
      ],
      "metadata": {
        "colab": {
          "base_uri": "https://localhost:8080/"
        },
        "id": "4zY5ncDYN-5H",
        "outputId": "d748bf47-ca20-4fb1-90d5-722e7ac783fc"
      },
      "execution_count": 2,
      "outputs": [
        {
          "output_type": "stream",
          "name": "stdout",
          "text": [
            "\u001b[2K     \u001b[90m━━━━━━━━━━━━━━━━━━━━━━━━━━━━━━━━━━━━━━━━\u001b[0m \u001b[32m227.4/227.4 kB\u001b[0m \u001b[31m7.0 MB/s\u001b[0m eta \u001b[36m0:00:00\u001b[0m\n",
            "\u001b[2K     \u001b[90m━━━━━━━━━━━━━━━━━━━━━━━━━━━━━━━━━━━━━━━━\u001b[0m \u001b[32m1.8/1.8 MB\u001b[0m \u001b[31m46.3 MB/s\u001b[0m eta \u001b[36m0:00:00\u001b[0m\n",
            "\u001b[2K     \u001b[90m━━━━━━━━━━━━━━━━━━━━━━━━━━━━━━━━━━━━━━━━\u001b[0m \u001b[32m75.6/75.6 kB\u001b[0m \u001b[31m5.4 MB/s\u001b[0m eta \u001b[36m0:00:00\u001b[0m\n",
            "\u001b[2K     \u001b[90m━━━━━━━━━━━━━━━━━━━━━━━━━━━━━━━━━━━━━━━━\u001b[0m \u001b[32m77.8/77.8 kB\u001b[0m \u001b[31m7.6 MB/s\u001b[0m eta \u001b[36m0:00:00\u001b[0m\n",
            "\u001b[2K     \u001b[90m━━━━━━━━━━━━━━━━━━━━━━━━━━━━━━━━━━━━━━━━\u001b[0m \u001b[32m58.3/58.3 kB\u001b[0m \u001b[31m3.8 MB/s\u001b[0m eta \u001b[36m0:00:00\u001b[0m\n",
            "\u001b[?25h"
          ]
        }
      ]
    },
    {
      "cell_type": "code",
      "source": [
        "from langchain_openai import ChatOpenAI\n",
        "from langchain.prompts.chat import (\n",
        "    ChatPromptTemplate,\n",
        "    SystemMessagePromptTemplate,\n",
        "    HumanMessagePromptTemplate,\n",
        ")"
      ],
      "metadata": {
        "id": "xvHQKNrrOFTU"
      },
      "execution_count": 3,
      "outputs": []
    },
    {
      "cell_type": "code",
      "source": [
        "openai_key = /" /" #\n",
        "llm = ChatOpenAI(openai_api_key=openai_key)"
      ],
      "metadata": {
        "id": "hyZJqxyyOOhY"
      },
      "execution_count": 4,
      "outputs": []
    },
    {
      "cell_type": "code",
      "source": [
        "sys_template = \"Pretend you're a proficient horticulturist capable of analyzing the condition of a plant, identifying its species, and outlining the necessary steps for optimal growth\"\n",
        "\n",
        "def llm_chain(input_user,pic=False):\n",
        "  if pic :\n",
        "    return \"7ta ydir oussama dak lmodel dl vision hhh\"\n",
        "  # aykon fih human template w fl variables status dial dik nebta li traitaha model dl vision\n",
        "\n",
        "\n",
        "\n",
        "  prompt = ChatPromptTemplate.from_messages([\n",
        "    (\"system\", sys_template),\n",
        "    (\"user\", \"{input}\")\n",
        "  ])\n",
        "  chain = prompt | llm\n",
        "  return chain.invoke({\"input\": input_user})"
      ],
      "metadata": {
        "id": "dS6X_zAEOO-7"
      },
      "execution_count": 7,
      "outputs": []
    },
    {
      "cell_type": "code",
      "source": [
        "response = llm_chain(\"I'm interested in cultivating a rose in my garden. How should I begin?\")\n",
        "response"
      ],
      "metadata": {
        "colab": {
          "base_uri": "https://localhost:8080/"
        },
        "id": "Zv4ZL21pOPCe",
        "outputId": "53952089-4b08-43b8-b5e8-a33661d26905"
      },
      "execution_count": 8,
      "outputs": [
        {
          "output_type": "execute_result",
          "data": {
            "text/plain": [
              "AIMessage(content=\"To successfully cultivate a rose in your garden, it's important to start by choosing a suitable location that receives at least 6-8 hours of sunlight per day and has well-draining soil. Once you've selected a spot, follow these steps for optimal growth:\\n\\n1. Choose the right type of rose: There are various types of roses, including hybrid tea, floribunda, grandiflora, and shrub roses. Select a type that suits your climate and preference.\\n\\n2. Planting: Dig a hole that is twice as wide and deep as the root ball of the rose plant. Mix in some organic compost or aged manure to the soil before planting. Place the rose plant in the hole, making sure the graft union is above the soil level.\\n\\n3. Watering: Roses require regular watering, especially during the growing season. Water deeply at the base of the plant to encourage deep root growth. Avoid wetting the foliage to prevent diseases.\\n\\n4. Fertilizing: Feed your roses with a balanced fertilizer specifically formulated for roses. Apply the fertilizer in early spring and again after the first flush of blooms.\\n\\n5. Pruning: Prune your roses in late winter or early spring to promote new growth and flowering. Remove dead, diseased, or crossing branches to improve air circulation.\\n\\n6. Mulching: Apply a layer of organic mulch around the base of the rose plant to retain moisture, suppress weeds, and regulate soil temperature. Keep the mulch a few inches away from the stem to prevent rot.\\n\\n7. Pest and disease control: Keep an eye out for common rose pests like aphids, thrips, and spider mites. Treat any infestations promptly with organic or chemical controls. Also, watch for diseases like powdery mildew and black spot, and use appropriate fungicides as needed.\\n\\n8. Support: Depending on the type of rose, you may need to provide support in the form of stakes or trellises to help the plant grow upright and prevent damage from wind or heavy blooms.\\n\\nBy following these steps and providing proper care and maintenance, you can enjoy healthy and beautiful roses in your garden. Remember that patience and consistent care are key to successful rose cultivation.\")"
            ]
          },
          "metadata": {},
          "execution_count": 8
        }
      ]
    },
    {
      "cell_type": "code",
      "source": [],
      "metadata": {
        "id": "NJoe901YTFCb"
      },
      "execution_count": null,
      "outputs": []
    }
  ]
}
